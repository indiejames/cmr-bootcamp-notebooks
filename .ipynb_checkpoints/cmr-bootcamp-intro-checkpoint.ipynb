{
 "cells": [
  {
   "cell_type": "markdown",
   "metadata": {},
   "source": [
    "<h1 style=\"text-align:center;\">CMR API Bootcamp</h1>"
   ]
  },
  {
   "cell_type": "markdown",
   "metadata": {},
   "source": [
    "# Introduction to CMR Concepts and Concept Search\n",
    "\n",
    "In the CMR all metadata is represented as a concept. The CMR supports a continually growing set of concept types: collections, granules, tags, services, etc. Each of these concept types has a corresponding Unified Metadata Model (UMM). These are conceptual models (not metadata formats), that represent the information contained in various metadata formats supported by CMR. The models are associated with their concept types using the first letter of the concept type: UMM-C for collections, UMM-G for granules, etc.\n",
    "\n",
    "When we use the term *concept* in the CMR we are referring to a specific instance of a concept type, not the concept type itself. Every concept instance is uniquely identified by two things: a concept id and a revision id."
   ]
  },
  {
   "cell_type": "markdown",
   "metadata": {},
   "source": [
    "A CMR concept id is in the format `<concept-type-prefix> <unique-number> \"-\" <provider-id>`\n",
    "\n",
    "  * `concept-type-prefix` is a single capital letter prefix indicating the concept type. \"C\" is used for collections\n",
    "  * `unique-number` is a single number assigned by the CMR during ingest.\n",
    "  * `provider-id` is the short name for the provider. i.e. \"LPDAAC\\_ECS\"\n",
    "\n",
    "Example: `C1200000254-GCMDTEST`"
   ]
  },
  {
   "cell_type": "markdown",
   "metadata": {},
   "source": [
    "Revision ids (not to be confused with version ids given by a provider) are automatically assigned to concept instances every time they are updated, with the inital assigned revision id of 1 on creation. Revision ids are not guaranteed to be contiguous, but they are guaranteed to be monotonically increasing. A provider may optionally provide a revision id to a concept id when it is updated. Updates that provide a revision id less than or equal to the current highest revision id for a given concept id are rejected. Unless a specific revision id is requested, the highest revision of a concept is always returned in search results."
   ]
  },
  {
   "cell_type": "markdown",
   "metadata": {},
   "source": [
    "The CMR provides an ingest API for creating, retrieving, updating and deleting (CRUD) concepts on a per-provider basis. The CMR also provides a search API that allows clients to search for concepts using any of the fields contained in the UMM for a given concept type. The search API allows parent/child relationships to be incorporated into a query, e.g., retrieving granules for a given collection."
   ]
  },
  {
   "cell_type": "markdown",
   "metadata": {},
   "source": [
    "A tags API has recently been added to the CMR to allow concepts to be associated with tags. This allows retieval of concepts for a given tag as well the inverse, retreiving the tags associated with a given concept. In this model, tags are concepts just like collections or granules. They can be created/retrieved/updated/deleted like other concepts, and they have conept and revision ids. _**The tags API is in beta right now and is going to change**_."
   ]
  },
  {
   "cell_type": "markdown",
   "metadata": {},
   "source": [
    "## Creating an ECHO Authentication Token\n",
    "\n",
    "In order to ingest metadata or create tags you will need to obtain an ECHO authentication token using the ECHO REST API using the following curl (substitute your actual URS username and password and choose a meaningful client_id):"
   ]
  },
  {
   "cell_type": "code",
   "execution_count": null,
   "metadata": {
    "collapsed": false
   },
   "outputs": [],
   "source": [
    "curl -XPOST -i -H \"Content-type: application/json\" \\\n",
    "\"https://testbed.echo.nSasa.gov/echo-rest/tokens\" -d \\\n",
    "'{\"token\": {\"username\": \"urs_username\", \"password\": \"urs_password\", \"client_id\": \"id\", \"user_ip_address\": \"127.0.0.1\"}}'"
   ]
  },
  {
   "cell_type": "markdown",
   "metadata": {},
   "source": [
    "This should respond with a token like this\n",
    "\n",
    "HTTP/1.1 201 Created\n",
    "\tServer: Apache-Coyote/1.1\n",
    "\tLocation: https://testbed.echo.nasa.gov/echo-rest/tokens/YOUR_TOKEN_VALUE?clientId=unknown\n",
    "\tCache-Control: no-cache\n",
    "\tX-UA-Compatible: IE=Edge,chrome=1\n",
    "\tSet-Cookie: _EchoRestRails_session=BAh7BiIPc2Vzc2lvbl9pZCIlMDgyODI1YTkzMmFmYWI0ZGUxN2YwMjE4ZDNlNmRmNTE%3D--a39d10207c6820a6127728a11ba96dc6564a8780; path=/; HttpOnly\n",
    "\tX-Runtime: 0.227000\n",
    "\tContent-Type: application/xml;charset=utf-8\n",
    "\tDate: Mon, 26 Oct 2015 19:07:43 GMT\n",
    "\tTransfer-Encoding: chunked\n",
    "\n",
    "\t<?xml version=\"1.0\" encoding=\"UTF-8\"?>\n",
    "\t<token>\n",
    "\t  <id>YOUR_TOKEN_VALUE</id>\n",
    "\t  <username>jamesnorton</username>\n",
    "\t  <client_id>id</client_id>\n",
    "\t  <user_ip_address>127.0.0.1</user_ip_address>\n",
    "\t</token>\n",
    "\n",
    "where `YOUR_TOKEN_VALUE` will be a long character string containing your token."
   ]
  },
  {
   "cell_type": "markdown",
   "metadata": {},
   "source": [
    "You use this token when interacting with the CMR APIs. Although not all of the APIs require authentication, it is good practice to provide it on every call. Your token is passed to the APIs using the 'Echo-Token' header like so:"
   ]
  },
  {
   "cell_type": "code",
   "execution_count": null,
   "metadata": {
    "collapsed": false
   },
   "outputs": [],
   "source": [
    "curl -H \"Echo-Token: MY_ECHO_TOKEN\" \\\n",
    "\"cmr.sit.earthdata.nasa.gov/search/collections?pretty=true\""
   ]
  },
  {
   "cell_type": "markdown",
   "metadata": {},
   "source": [
    "If you do not yet have a username and password you must create one by going to the [URS account creation page](https://sit.urs.earthdata.nasa.gov/users/new)."
   ]
  },
  {
   "cell_type": "markdown",
   "metadata": {},
   "source": [
    "## Links\n",
    "* [Ingest API Notebook](http://localhost:8888/notebooks/cmr-bootcamp-ingest.ipynb)\n",
    "* [Search API Notebook](http://localhost:8888/notebooks/cmr-bootcamp-search.ipynb)\n",
    "* [Tags API Notebook](http://localhost:8888/notebooks/cmr-bootcamp-tags.ipynb\")"
   ]
  }
 ],
 "metadata": {
  "kernelspec": {
   "display_name": "Bash",
   "language": "bash",
   "name": "bash"
  },
  "language_info": {
   "codemirror_mode": "shell",
   "file_extension": ".sh",
   "mimetype": "text/x-sh",
   "name": "bash"
  }
 },
 "nbformat": 4,
 "nbformat_minor": 0
}
