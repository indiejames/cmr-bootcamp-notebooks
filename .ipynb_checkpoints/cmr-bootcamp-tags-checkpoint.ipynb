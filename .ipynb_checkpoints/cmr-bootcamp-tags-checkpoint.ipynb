{
 "cells": [
  {
   "cell_type": "markdown",
   "metadata": {},
   "source": [
    "<h1 style=\"text-align:center;\">CMR API Bootcamp<br/>&nbsp;&nbsp;&nbsp;&nbsp;&nbsp;&nbsp;&nbsp;&nbsp;&nbsp;Tags API</h1>"
   ]
  },
  {
   "cell_type": "markdown",
   "metadata": {
    "collapsed": false
   },
   "source": [
    "<h2 style=\"color:red;text-align:center\">BETA! BETA! BETA!</h2>\n",
    "\n",
    "This contains examples of using the tags API to create tags, delete tags, and associate tags with collections. Examples are also given of how to search for collections by tag and how to retrieve tags for each collection in search results. *This API is preliminary and is going to change.*"
   ]
  },
  {
   "cell_type": "markdown",
   "metadata": {},
   "source": [
    "## Setup"
   ]
  },
  {
   "cell_type": "code",
   "execution_count": null,
   "metadata": {
    "collapsed": false
   },
   "outputs": [],
   "source": [
    "BASE_URL=https://cmr.sit.earthdata.nasa.gov"
   ]
  },
  {
   "cell_type": "markdown",
   "metadata": {},
   "source": [
    "## Curl Examples"
   ]
  },
  {
   "cell_type": "markdown",
   "metadata": {},
   "source": [
    "### Create tags\n",
    "\n",
    "Tags are created by POSTing a JSON representation of a tag to `https://cmr.sit.earthdata.nasa.gov/search/tags` along with a valid ECHO token. The user id of the user associated with the token will be used as the originator id. The response will contain a concept id identifying the tag along with the tag revision id.\n"
   ]
  },
  {
   "cell_type": "code",
   "execution_count": null,
   "metadata": {
    "collapsed": false
   },
   "outputs": [],
   "source": [
    "curl -XPOST -i -H \"Content-Type: application/json\" -H \"Echo-Token: $MY_ECHO_TOKEN\" \\\n",
    "https://cmr.sit.earthdata.nasa.gov/search/tags -d \\\n",
    "'{\n",
    "\"namespace\": \"org.nowhere.namespace\",\n",
    "\"category\": \"nowhere_public\",\n",
    "\"value\": \"green\",\n",
    "\"description\": \"This is a sample tag.\"\n",
    "}'"
   ]
  },
  {
   "cell_type": "markdown",
   "metadata": {},
   "source": [
    "#### Set an envrionment variable with our tag concept-id"
   ]
  },
  {
   "cell_type": "code",
   "execution_count": null,
   "metadata": {
    "collapsed": false
   },
   "outputs": [],
   "source": [
    "MY_TAG=<TAG_CONCEPT_ID>"
   ]
  },
  {
   "cell_type": "markdown",
   "metadata": {},
   "source": [
    "### Find all tags"
   ]
  },
  {
   "cell_type": "code",
   "execution_count": null,
   "metadata": {
    "collapsed": false,
    "scrolled": false
   },
   "outputs": [],
   "source": [
    "curl -H \"Echo-Token: $MY_ECHO_TOKEN\" \\\n",
    "\"$BASE_URL/search/tags?pretty=true\""
   ]
  },
  {
   "cell_type": "markdown",
   "metadata": {},
   "source": [
    "### Associate collections with a tag using a collection query"
   ]
  },
  {
   "cell_type": "code",
   "execution_count": null,
   "metadata": {
    "collapsed": false,
    "scrolled": false
   },
   "outputs": [],
   "source": [
    "curl -XPOST -i -H \"Echo-Token: $MY_ECHO_TOKEN\" -H \"Content-Type: application/json\" \\\n",
    "\"$BASE_URL/search/tags/$MY_TAG/associations/by_query\" -d \\\n",
    "         '{\"condition\": {\"keyword\": \"green\"}}'"
   ]
  },
  {
   "cell_type": "markdown",
   "metadata": {},
   "source": [
    "### Find collections tagged with 'green'"
   ]
  },
  {
   "cell_type": "code",
   "execution_count": null,
   "metadata": {
    "collapsed": false
   },
   "outputs": [],
   "source": [
    "curl \"$BASE_URL/search/collections?pretty=true&tag_value=green\""
   ]
  },
  {
   "cell_type": "markdown",
   "metadata": {
    "collapsed": true
   },
   "source": [
    "### Dissociate collections from a tag using a collection query"
   ]
  },
  {
   "cell_type": "code",
   "execution_count": null,
   "metadata": {
    "collapsed": false
   },
   "outputs": [],
   "source": [
    "curl -XDELETE -H \"Echo-Token: $MY_ECHO_TOKEN\" -H \"Content-Type: application/json\" \\\n",
    "\"$BASE_URL/search/tags/$MY_TAG/associations/by_query\" -d \\\n",
    "         '{\"condition\": {\"keyword\": \"green\"}}'"
   ]
  },
  {
   "cell_type": "markdown",
   "metadata": {},
   "source": [
    "### Delete a tag"
   ]
  },
  {
   "cell_type": "code",
   "execution_count": null,
   "metadata": {
    "collapsed": false
   },
   "outputs": [],
   "source": [
    "curl -XDELETE -H \"Echo-Token: $MY_ECHO_TOKEN\" \\\n",
    "\"$BASE_URL/search/tags/$MY_TAG\""
   ]
  }
 ],
 "metadata": {
  "kernelspec": {
   "display_name": "Bash",
   "language": "bash",
   "name": "bash"
  },
  "language_info": {
   "codemirror_mode": "shell",
   "file_extension": ".sh",
   "mimetype": "text/x-sh",
   "name": "bash"
  }
 },
 "nbformat": 4,
 "nbformat_minor": 0
}
