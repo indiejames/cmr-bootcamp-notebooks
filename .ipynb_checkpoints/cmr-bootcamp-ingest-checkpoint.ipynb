{
 "cells": [
  {
   "cell_type": "markdown",
   "metadata": {},
   "source": [
    "<h1 style=\"text-align:center;\">CMR API Bootcamp<br/>&nbsp;&nbsp;&nbsp;&nbsp;&nbsp;&nbsp;&nbsp;&nbsp;&nbsp;Ingest API</h1>"
   ]
  },
  {
   "cell_type": "markdown",
   "metadata": {
    "collapsed": false
   },
   "source": [
    "This contains examples of how to ingest collections and granules."
   ]
  },
  {
   "cell_type": "markdown",
   "metadata": {},
   "source": [
    "## Setup\n",
    "Set the environment variable `MY_ECHO_TOKEN` to your echo authentication token (see [Creating an ECHO Authentication Token](http://localhost:8888/notebooks/cmr-bootcamp-intro.ipynb))."
   ]
  },
  {
   "cell_type": "code",
   "execution_count": 1,
   "metadata": {
    "collapsed": false
   },
   "outputs": [
    {
     "name": "stdout",
     "output_type": "stream",
     "text": []
    }
   ],
   "source": [
    "BASE_URL=https://cmr.sit.earthdata.nasa.gov\n",
    "MY_PROVIDER=JAMES_ETIM"
   ]
  },
  {
   "cell_type": "markdown",
   "metadata": {},
   "source": [
    "## Curl Examples"
   ]
  },
  {
   "cell_type": "markdown",
   "metadata": {},
   "source": [
    "### Collection Ingest"
   ]
  },
  {
   "cell_type": "code",
   "execution_count": null,
   "metadata": {
    "collapsed": false
   },
   "outputs": [],
   "source": [
    "curl -XPUT -H \"Cmr-Pretty:true\" -H \"Content-Type:application/echo10+xml\" \\\n",
    "-H \"Echo-Token: $MY_ECHO_TOKEN\" \\\n",
    "\"$BASE_URL/ingest/providers/$MY_PROVIDER/collections/coll1\" -d \\\n",
    "           \"<Collection>\n",
    "           <ShortName>short70</ShortName>\n",
    "           <VersionId>v1</VersionId>\n",
    "           <InsertTime>2015-11-04T00:00:00Z</InsertTime>\n",
    "           <LastUpdate>2015-11-04T00:00:00Z</LastUpdate>\n",
    "           <LongName>long</LongName>\n",
    "           <DataSetId>SampleValidCollection_10</DataSetId>\n",
    "           <Description>none</Description>\n",
    "           <Orderable>true</Orderable>\n",
    "           <Visible>true</Visible>\n",
    "           <Temporal>\n",
    "           <EndsAtPresentFlag>true</EndsAtPresentFlag>\n",
    "           <RangeDateTime>\n",
    "           <BeginningDateTime>2015-11-01T00:00:00Z</BeginningDateTime>\n",
    "           <EndingDateTime>2015-11-04T00:00:00Z</EndingDateTime>\n",
    "           </RangeDateTime>\n",
    "           </Temporal>\n",
    "           </Collection>\""
   ]
  },
  {
   "cell_type": "markdown",
   "metadata": {},
   "source": [
    "### Granule Ingest"
   ]
  },
  {
   "cell_type": "code",
   "execution_count": null,
   "metadata": {
    "collapsed": false,
    "scrolled": false
   },
   "outputs": [],
   "source": [
    "curl -i -XPUT -H \"Cmr-Pretty:true\" -H \"Content-Type:application/echo10+xml\" \\\n",
    "-H \"Echo-Token: $MY_ECHO_TOKEN\" \\\n",
    "\"$BASE_URL/ingest/providers/$MY_PROVIDER/granules/gran3\" -d \\\n",
    "  \"<Granule>\n",
    "    <GranuleUR>ABC3</GranuleUR>\n",
    "    <InsertTime>2011-08-26T11:10:44.490Z</InsertTime>\n",
    "    <LastUpdate>2011-08-26T16:17:55.232Z</LastUpdate>\n",
    "    <Collection>\n",
    "      <ShortName>short7</ShortName>\n",
    "      <VersionId>v1</VersionId>\n",
    "    </Collection>\n",
    "  <OrbitCalculatedSpatialDomains>\n",
    "      <OrbitCalculatedSpatialDomain>\n",
    "          <OrbitalModelName>Relative Orbit</OrbitalModelName>\n",
    "          <OrbitNumber>18758</OrbitNumber>\n",
    "      </OrbitCalculatedSpatialDomain>\n",
    "  </OrbitCalculatedSpatialDomains>\n",
    "   <Orderable>false</Orderable>\n",
    "  </Granule>\""
   ]
  }
 ],
 "metadata": {
  "kernelspec": {
   "display_name": "Bash",
   "language": "bash",
   "name": "bash"
  },
  "language_info": {
   "codemirror_mode": "shell",
   "file_extension": ".sh",
   "mimetype": "text/x-sh",
   "name": "bash"
  }
 },
 "nbformat": 4,
 "nbformat_minor": 0
}
