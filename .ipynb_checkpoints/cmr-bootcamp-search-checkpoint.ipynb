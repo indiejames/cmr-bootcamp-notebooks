{
 "cells": [
  {
   "cell_type": "markdown",
   "metadata": {},
   "source": [
    "<h1 style=\"text-align:center;\">CMR API Bootcamp<br/>&nbsp;&nbsp;&nbsp;&nbsp;&nbsp;&nbsp;&nbsp;&nbsp;&nbsp;Search API</h1>"
   ]
  },
  {
   "cell_type": "markdown",
   "metadata": {
    "collapsed": false
   },
   "source": [
    "The search API provides the means to search for metadata concepts in various formats by querying against various elements in the metadata.\n",
    "Consult the [full documenation](https://cmr.earthdata.nasa.gov/search/site/search_api_docs.html) for details."
   ]
  },
  {
   "cell_type": "markdown",
   "metadata": {},
   "source": [
    "## Setup"
   ]
  },
  {
   "cell_type": "code",
   "execution_count": null,
   "metadata": {
    "collapsed": false
   },
   "outputs": [],
   "source": [
    "BASE_URL=https://cmr.sit.earthdata.nasa.gov\n",
    "MY_PROVIDER=JAMES_ETIM"
   ]
  },
  {
   "cell_type": "markdown",
   "metadata": {},
   "source": [
    "## Curl Examples"
   ]
  },
  {
   "cell_type": "markdown",
   "metadata": {},
   "source": [
    "### Find all collections\n",
    "We specify our authentication token so we can see collections that are not visible to guests."
   ]
  },
  {
   "cell_type": "code",
   "execution_count": null,
   "metadata": {
    "collapsed": false,
    "scrolled": false
   },
   "outputs": [],
   "source": [
    "curl -H \"Echo-Token: $MY_ECHO_TOKEN\" \\\n",
    "\"$BASE_URL/search/collections?pretty=true\""
   ]
  },
  {
   "cell_type": "markdown",
   "metadata": {},
   "source": [
    "### Find all collections for a single provider"
   ]
  },
  {
   "cell_type": "code",
   "execution_count": null,
   "metadata": {
    "collapsed": false,
    "scrolled": false
   },
   "outputs": [],
   "source": [
    "curl -H \"Echo-Token: $MY_ECHO_TOKEN\" \\\n",
    "\"https://cmr.sit.earthdata.nasa.gov/search/collections.json?pretty=true&provider=$MY_PROVIDER\""
   ]
  },
  {
   "cell_type": "markdown",
   "metadata": {},
   "source": [
    "### Find collections by short name and version id"
   ]
  },
  {
   "cell_type": "code",
   "execution_count": null,
   "metadata": {
    "collapsed": false
   },
   "outputs": [],
   "source": [
    "curl \"$BASE_URL/search/collections?pretty=true&short_name=short7&version=v1\""
   ]
  },
  {
   "cell_type": "markdown",
   "metadata": {},
   "source": [
    "### Find collections by temporal query"
   ]
  },
  {
   "cell_type": "code",
   "execution_count": null,
   "metadata": {
    "collapsed": false
   },
   "outputs": [],
   "source": [
    "curl \"$BASE_URL/search/collections.json?pretty=true&updated_since=2015-05-01T00:00:00Z&provider=$MY_PROVIDER\""
   ]
  },
  {
   "cell_type": "markdown",
   "metadata": {},
   "source": [
    "### Find collections using spatial queries"
   ]
  },
  {
   "cell_type": "markdown",
   "metadata": {},
   "source": [
    "#### By bounding box\n",
    "Bounding boxes define an area on the earth aligned with longitude and latitude. The Bounding box parameters must be 4 comma-separated numbers: lower left longitude, lower left latitude, upper right longitude, upper right latitude."
   ]
  },
  {
   "cell_type": "code",
   "execution_count": null,
   "metadata": {
    "collapsed": false
   },
   "outputs": [],
   "source": [
    "curl \"$BASE_URL/search/collections?pretty=true&bounding_box=-10,-5,10,5\""
   ]
  },
  {
   "cell_type": "markdown",
   "metadata": {},
   "source": [
    "#### By polygon\n",
    "\n",
    "Points are represented by longitude/latitude pairs in counter-clockwise order. The last point must be the same as the first (closed polygon). Polygons are geodetic; points are connected by arcs representing the shortest distance between them on a spherical earth.\n"
   ]
  },
  {
   "cell_type": "code",
   "execution_count": null,
   "metadata": {
    "collapsed": false
   },
   "outputs": [],
   "source": [
    "curl \"$BASE_URL/search/collections?pretty=true&polygon=10,10,30,10,30,20,10,20,10,10\""
   ]
  },
  {
   "cell_type": "markdown",
   "metadata": {
    "collapsed": true
   },
   "source": [
    "##### Find collections by keyword search\n",
    "\n",
    "Keyword searches are case insensitive and support wild cards ? and *.\n",
    "\n",
    "The following fields are indexed for keyword search:\n",
    "\n",
    "* `Concept ID`\n",
    "* `Provider ID`\n",
    "* `Entry title`\n",
    "* `Data type`\n",
    "* `Short name`\n",
    "* `Long name`\n",
    "* `Summary`\n",
    "* `Version ID`\n",
    "* `Version description`\n",
    "* `Processing level ID`\n",
    "* `Science keywords`\n",
    "* `Archive centers`\n",
    "* `Additional attribute names, data types, values, and descriptions`\n",
    "* `Spatial keywords`\n",
    "* `Temporal keywords`\n",
    "* `Associated DIFs`\n",
    "* `Project short and long names`\n",
    "* `Platform short and long names`\n",
    "* `Instrument short names, long names, and techniques`\n",
    "* `Sensor short names, long names, and techniques`\n",
    "* `Characteristic names and descriptions`\n",
    "* `TwoD coordinate system names`"
   ]
  },
  {
   "cell_type": "code",
   "execution_count": null,
   "metadata": {
    "collapsed": false
   },
   "outputs": [],
   "source": [
    "curl \"$BASE_URL/search/collections?pretty=true&keyword=alpha%20beta%20g?mma\""
   ]
  },
  {
   "cell_type": "markdown",
   "metadata": {},
   "source": [
    "### Retrieving facets with collection search\n",
    "We can retrieve facets by setting the `include_facets` flag to `true`."
   ]
  },
  {
   "cell_type": "code",
   "execution_count": null,
   "metadata": {
    "collapsed": false
   },
   "outputs": [],
   "source": [
    "curl \"$BASE_URL/search/collections?pretty=true&keyword=snowfall&include_facets=true\""
   ]
  },
  {
   "cell_type": "markdown",
   "metadata": {},
   "source": [
    "We can retrieve hierarchical facets by setting the `hierarchical_facets` flag to `true`."
   ]
  },
  {
   "cell_type": "code",
   "execution_count": null,
   "metadata": {
    "collapsed": false
   },
   "outputs": [],
   "source": [
    "curl \"$BASE_URL/search/collections?pretty=true&keyword=snowfall&include_facets=true&hierarchical_facets=true\""
   ]
  },
  {
   "cell_type": "markdown",
   "metadata": {},
   "source": [
    "### Find all granules"
   ]
  },
  {
   "cell_type": "code",
   "execution_count": null,
   "metadata": {
    "collapsed": false
   },
   "outputs": [],
   "source": [
    "curl \"$BASE_URL/search/granules.echo10?pretty=true&provider=$MY_PROVIDER\""
   ]
  },
  {
   "cell_type": "markdown",
   "metadata": {},
   "source": [
    "### Find granules by entry title"
   ]
  },
  {
   "cell_type": "code",
   "execution_count": null,
   "metadata": {
    "collapsed": false
   },
   "outputs": [],
   "source": [
    "curl \"$BASE_URL/search/granules?pretty=true&short_name=ABC2\""
   ]
  },
  {
   "cell_type": "markdown",
   "metadata": {},
   "source": [
    "### Find granules with an orbit equator crossing longitude in the range of 0 to 10"
   ]
  },
  {
   "cell_type": "code",
   "execution_count": null,
   "metadata": {
    "collapsed": false
   },
   "outputs": [],
   "source": [
    "curl \"$BASE_URL/search/granules.echo10?pretty=true&equator_crossing_longitude=0,10\""
   ]
  },
  {
   "cell_type": "markdown",
   "metadata": {},
   "source": [
    "### Retrieving Results in Various Formats\n",
    "\n",
    "The format returned for search results can be specified in one of two ways:\n",
    "\n",
    "#### Using an 'Accept' header"
   ]
  },
  {
   "cell_type": "code",
   "execution_count": null,
   "metadata": {
    "collapsed": false
   },
   "outputs": [],
   "source": [
    "curl -H \"Accept: application/echo10+xml\" \\\n",
    "\"$BASE_URL/search/collections?pretty=true&concept_id=C1200055815-JAMES_ETIM\""
   ]
  },
  {
   "cell_type": "markdown",
   "metadata": {
    "collapsed": true
   },
   "source": [
    "#### Using an Extension"
   ]
  },
  {
   "cell_type": "code",
   "execution_count": null,
   "metadata": {
    "collapsed": false
   },
   "outputs": [],
   "source": [
    "curl \"$BASE_URL/search/collections.opendata?pretty=true&concept_id=C1200055815-JAMES_ETIM\""
   ]
  },
  {
   "cell_type": "markdown",
   "metadata": {},
   "source": [
    "If no format is specified then the *reference* format is returned."
   ]
  },
  {
   "cell_type": "code",
   "execution_count": null,
   "metadata": {
    "collapsed": false
   },
   "outputs": [],
   "source": [
    "curl \"$BASE_URL/search/collections?pretty=true&concept_id=C1200055815-JAMES_ETIM\""
   ]
  },
  {
   "cell_type": "markdown",
   "metadata": {},
   "source": [
    "### Supported MIME Types and Extensions\n",
    "| MIME Type | Extension |\n",
    "|-|-|\n",
    "| application/atom+xml | atom |\n",
    "| application/json | json |\n",
    "| application/dif+xml | dif |\n",
    "| application/dif10+xml | dif10 |\n",
    "| application/echo10+xml | echo10 |\n",
    "| application/iso19115+xml | iso, iso19115 |\n",
    "| application/iso:smap+xml | iso-smap, iso_smap |\n",
    "| application/opendata+json | opendata |\n",
    "| application/umm+json | umm-json |\n",
    "| application/vnd.google-earth.kml+xml | kml |\n",
    "\n",
    "Additionally, if the extension `.native` is used then search results will be returned in the format in which they were ingested."
   ]
  },
  {
   "cell_type": "markdown",
   "metadata": {},
   "source": [
    "### Format Examples\n",
    "\n",
    "#### Atom\n",
    "Provides an [Atom](http://www.atomenabled.org/developers/syndication/) feed of collections matching the query. Useful for syndicating CMR search results."
   ]
  },
  {
   "cell_type": "code",
   "execution_count": null,
   "metadata": {
    "collapsed": false
   },
   "outputs": [],
   "source": [
    "curl \"$BASE_URL/search/collections.atom?pretty=true&concept_id=C1200055815-JAMES_ETIM\""
   ]
  },
  {
   "cell_type": "markdown",
   "metadata": {},
   "source": [
    "#### JSON\n",
    "Provides the same fields as the Atom response, but in a JSON format instead of XML"
   ]
  },
  {
   "cell_type": "code",
   "execution_count": null,
   "metadata": {
    "collapsed": false
   },
   "outputs": [],
   "source": [
    "curl \"$BASE_URL/search/collections.json?pretty=true&concept_id=C1200055815-JAMES_ETIM\""
   ]
  },
  {
   "cell_type": "markdown",
   "metadata": {},
   "source": [
    "#### Opendata\n",
    "Provides and [Opendata 1.1](https://www.data.gov/open-gov/) formatted JSON response. Primary use case is for supporting [Data.gov](https://www.data.gov/open-gov/).\n"
   ]
  },
  {
   "cell_type": "code",
   "execution_count": null,
   "metadata": {
    "collapsed": false
   },
   "outputs": [],
   "source": [
    "curl \"$BASE_URL/search/collections.opendata?pretty=true&concept_id=C1200055815-JAMES_ETIM\""
   ]
  },
  {
   "cell_type": "markdown",
   "metadata": {},
   "source": [
    "#### UMM-JSON\n",
    "UMM-JSON is a [JSON Schema](http://json-schema.org/) based format. The spec is in flux as the UMM evolves (only UMM-C is defined as of yet), but it may be useful for CMR client developers."
   ]
  },
  {
   "cell_type": "code",
   "execution_count": null,
   "metadata": {
    "collapsed": false
   },
   "outputs": [],
   "source": [
    "curl \"$BASE_URL/search/collections.umm-json?pretty=true&concept_id=C1200055815-JAMES_ETIM\""
   ]
  },
  {
   "cell_type": "markdown",
   "metadata": {},
   "source": [
    "#### KML\n",
    "Google's XML format for expressing geographic annotation and visualization. The primary use case is to make it easy to visualize the spatial extent of metadata."
   ]
  },
  {
   "cell_type": "code",
   "execution_count": null,
   "metadata": {
    "collapsed": false
   },
   "outputs": [],
   "source": [
    "curl -s \"$BASE_URL/search/granules.kml?pretty=true&page_size=1\" -o /tmp/granule.kml"
   ]
  },
  {
   "cell_type": "markdown",
   "metadata": {},
   "source": [
    "*The following command is mac specific and requires Google Earth to be installed*"
   ]
  },
  {
   "cell_type": "code",
   "execution_count": null,
   "metadata": {
    "collapsed": false
   },
   "outputs": [],
   "source": [
    "open /Applications/Google\\ Earth.app/ /tmp/granule.kml"
   ]
  },
  {
   "cell_type": "markdown",
   "metadata": {},
   "source": [
    "### Paging Results\n",
    "We can use `page_size` and `page_num` to page results. Default `page_size` is 10, max is 2000."
   ]
  },
  {
   "cell_type": "code",
   "execution_count": null,
   "metadata": {
    "collapsed": true
   },
   "outputs": [],
   "source": [
    "curl \"$BASE_URL/search/collections?pretty=true&page_size=4&provider=$MY_PROVIDER\""
   ]
  },
  {
   "cell_type": "code",
   "execution_count": null,
   "metadata": {
    "collapsed": true
   },
   "outputs": [],
   "source": [
    "curl \"$BASE_URL/search/collections?pretty=true&page_size=2&page_num=2&provider=$MY_PROVIDER\""
   ]
  },
  {
   "cell_type": "markdown",
   "metadata": {},
   "source": [
    "### Sorting Results\n",
    "\n",
    "#### Collection results are sorted by ascending entry title by default."
   ]
  },
  {
   "cell_type": "code",
   "execution_count": null,
   "metadata": {
    "collapsed": false
   },
   "outputs": [],
   "source": [
    "curl \"$BASE_URL/search/collections.json?pretty=true&page_size=20&provider=$MY_PROVIDER\""
   ]
  },
  {
   "cell_type": "markdown",
   "metadata": {},
   "source": [
    "#### Can sort by other fields using thje `sort_key` parameter."
   ]
  },
  {
   "cell_type": "code",
   "execution_count": null,
   "metadata": {
    "collapsed": false
   },
   "outputs": [],
   "source": [
    "curl \"$BASE_URL/search/collections.json?pretty=true&page_size=20&provider=$MY_PROVIDER&sort_key=start_date\""
   ]
  },
  {
   "cell_type": "markdown",
   "metadata": {},
   "source": [
    "#### Descending sort using (`-`) in front of sort key"
   ]
  },
  {
   "cell_type": "code",
   "execution_count": null,
   "metadata": {
    "collapsed": false
   },
   "outputs": [],
   "source": [
    "curl \"$BASE_URL/search/collections.json?pretty=true&page_size=20&provider=$MY_PROVIDER&sort_key=-entry_title\""
   ]
  },
  {
   "cell_type": "markdown",
   "metadata": {},
   "source": [
    "#### Sorting by multiple fields - `start_date` descending, `entry_title` ascending"
   ]
  },
  {
   "cell_type": "code",
   "execution_count": null,
   "metadata": {
    "collapsed": false
   },
   "outputs": [],
   "source": [
    "curl -g \"$BASE_URL/search/collections.json?pretty=true&page_size=20&provider=$MY_PROVIDER&sort_key[]=-start_date&sort_key[]=entry_title\""
   ]
  },
  {
   "cell_type": "markdown",
   "metadata": {},
   "source": [
    "### Parameter Options\n",
    "\n",
    "The behavior of search with respect to each parameter can be modified using the `options` parameter. The `options` parameter takes the following form:\n",
    "\n",
    "  `options[parameter][option_key]=value`"
   ]
  },
  {
   "cell_type": "markdown",
   "metadata": {},
   "source": [
    "#### `ignore_case`"
   ]
  },
  {
   "cell_type": "code",
   "execution_count": null,
   "metadata": {
    "collapsed": false
   },
   "outputs": [],
   "source": [
    "curl -g \"$BASE_URL/search/collections?pretty=true&provider=james_etim&options[provider][ignore_case]=false\""
   ]
  },
  {
   "cell_type": "markdown",
   "metadata": {},
   "source": [
    "#### `pattern`"
   ]
  },
  {
   "cell_type": "code",
   "execution_count": null,
   "metadata": {
    "collapsed": false
   },
   "outputs": [],
   "source": [
    "curl -g \"$BASE_URL/search/collections?pretty=true&provider=james_et*&options[provider][pattern]=true\""
   ]
  }
 ],
 "metadata": {
  "kernelspec": {
   "display_name": "Bash",
   "language": "bash",
   "name": "bash"
  },
  "language_info": {
   "codemirror_mode": "shell",
   "file_extension": ".sh",
   "mimetype": "text/x-sh",
   "name": "bash"
  }
 },
 "nbformat": 4,
 "nbformat_minor": 0
}
